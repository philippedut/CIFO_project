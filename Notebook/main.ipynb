{
 "cells": [
  {
   "cell_type": "markdown",
   "metadata": {},
   "source": [
    "# **Fantasy Sports League Optimization**\n",
    "\n",
    "## **Project Description**\n",
    "This project focuses on optimizing team assignments in a fantasy sports league while ensuring a balanced distribution of talent and adherence to salary constraints. Given a dataset of players with attributes such as skill rating, cost, and position, we aim to assign them to five teams while following strict constraints and achieving a balanced league.\n",
    "\n",
    "## **Constraints**\n",
    "- Each team must consist of:\n",
    "  - 1 Goalkeeper (GK)  \n",
    "  - 2 Defenders (DEF)  \n",
    "  - 2 Midfielders (MID)  \n",
    "  - 2 Forwards (FWD)  \n",
    "- Each player is assigned to exactly one team.  \n",
    "- No team may exceed a total budget of **750 million €**.  \n",
    "- The standard deviation of the average skill rating of all teams should be minimized to ensure fairness.  \n",
    "\n",
    "## **Objective**\n",
    "To generate a valid league configuration that follows all constraints and ensures that teams have a similar overall skill level, measured by the standard deviation of their average skill ratings.\n",
    "\n",
    "## **Group Members**\n",
    "\n",
    "### **Group X**\n",
    "\n",
    "| Name                  | Student Number  |\n",
    "|-----------------------|----------------|\n",
    "| Philippe Dutranoit   | 20240518        |\n",
    "| Name 2               | Student Number 2 |\n",
    "| Name 3               | Student Number 3 |\n",
    "| Name 4               | Student Number 4 |"
   ]
  },
  {
   "cell_type": "markdown",
   "metadata": {},
   "source": [
    "# Imports "
   ]
  },
  {
   "cell_type": "code",
   "execution_count": 1,
   "metadata": {},
   "outputs": [],
   "source": [
    "import os\n",
    "import pandas as pd\n",
    "import numpy as np\n",
    "import matplotlib.pyplot as plt\n",
    "import seaborn as sns\n",
    "import random"
   ]
  },
  {
   "cell_type": "code",
   "execution_count": 7,
   "metadata": {},
   "outputs": [],
   "source": [
    "df = pd.read_csv('../Data/players(in).csv')"
   ]
  },
  {
   "cell_type": "code",
   "execution_count": 8,
   "metadata": {},
   "outputs": [
    {
     "data": {
      "text/html": [
       "<div>\n",
       "<style scoped>\n",
       "    .dataframe tbody tr th:only-of-type {\n",
       "        vertical-align: middle;\n",
       "    }\n",
       "\n",
       "    .dataframe tbody tr th {\n",
       "        vertical-align: top;\n",
       "    }\n",
       "\n",
       "    .dataframe thead th {\n",
       "        text-align: right;\n",
       "    }\n",
       "</style>\n",
       "<table border=\"1\" class=\"dataframe\">\n",
       "  <thead>\n",
       "    <tr style=\"text-align: right;\">\n",
       "      <th></th>\n",
       "      <th>Name</th>\n",
       "      <th>Position</th>\n",
       "      <th>Skill</th>\n",
       "      <th>Salary (€M)</th>\n",
       "    </tr>\n",
       "  </thead>\n",
       "  <tbody>\n",
       "    <tr>\n",
       "      <th>0</th>\n",
       "      <td>Alex Carter</td>\n",
       "      <td>GK</td>\n",
       "      <td>85</td>\n",
       "      <td>90</td>\n",
       "    </tr>\n",
       "    <tr>\n",
       "      <th>1</th>\n",
       "      <td>Jordan Smith</td>\n",
       "      <td>GK</td>\n",
       "      <td>88</td>\n",
       "      <td>100</td>\n",
       "    </tr>\n",
       "    <tr>\n",
       "      <th>2</th>\n",
       "      <td>Ryan Mitchell</td>\n",
       "      <td>GK</td>\n",
       "      <td>83</td>\n",
       "      <td>85</td>\n",
       "    </tr>\n",
       "    <tr>\n",
       "      <th>3</th>\n",
       "      <td>Chris Thompson</td>\n",
       "      <td>GK</td>\n",
       "      <td>80</td>\n",
       "      <td>80</td>\n",
       "    </tr>\n",
       "    <tr>\n",
       "      <th>4</th>\n",
       "      <td>Blake Henderson</td>\n",
       "      <td>GK</td>\n",
       "      <td>87</td>\n",
       "      <td>95</td>\n",
       "    </tr>\n",
       "  </tbody>\n",
       "</table>\n",
       "</div>"
      ],
      "text/plain": [
       "              Name Position  Skill  Salary (€M)\n",
       "0      Alex Carter       GK     85           90\n",
       "1     Jordan Smith       GK     88          100\n",
       "2    Ryan Mitchell       GK     83           85\n",
       "3   Chris Thompson       GK     80           80\n",
       "4  Blake Henderson       GK     87           95"
      ]
     },
     "execution_count": 8,
     "metadata": {},
     "output_type": "execute_result"
    }
   ],
   "source": [
    "df.drop(columns=['Unnamed: 0'], inplace=True) # drop a column that as no information \n",
    "df.head()\n"
   ]
  },
  {
   "cell_type": "markdown",
   "metadata": {},
   "source": [
    "# Defining The constraints"
   ]
  },
  {
   "cell_type": "code",
   "execution_count": 9,
   "metadata": {},
   "outputs": [],
   "source": [
    "position = {\"GK\": 1, \"DEF\": 2, \"MID\": 2, \"FWD\": 2}\n",
    "budget = 750 \n",
    "total_players = 5 # as 35 rows devided by seven position = 5 teams\n",
    "team_size = sum(position.values())"
   ]
  },
  {
   "cell_type": "markdown",
   "metadata": {},
   "source": [
    "we assign each player to the right position <br>\n",
    " &rarr; the dictionary contains for each position a list of the player in can be assigned"
   ]
  },
  {
   "cell_type": "code",
   "execution_count": 10,
   "metadata": {},
   "outputs": [
    {
     "data": {
      "text/plain": [
       "{'GK': [['Alex Carter', 'GK', 85, 90],\n",
       "  ['Jordan Smith', 'GK', 88, 100],\n",
       "  ['Ryan Mitchell', 'GK', 83, 85],\n",
       "  ['Chris Thompson', 'GK', 80, 80],\n",
       "  ['Blake Henderson', 'GK', 87, 95]],\n",
       " 'DEF': [['Daniel Foster', 'DEF', 90, 110],\n",
       "  ['Lucas Bennett', 'DEF', 85, 90],\n",
       "  ['Owen Parker', 'DEF', 88, 100],\n",
       "  ['Ethan Howard', 'DEF', 80, 70],\n",
       "  ['Mason Reed', 'DEF', 82, 75],\n",
       "  ['Logan Brooks', 'DEF', 86, 95],\n",
       "  ['Caleb Fisher', 'DEF', 84, 85],\n",
       "  ['Maxwell Flores', 'DEF', 81, 72],\n",
       "  ['Jaxon Griffin', 'DEF', 79, 65],\n",
       "  ['Brayden Hughes', 'DEF', 87, 100]],\n",
       " 'MID': [['Nathan Wright', 'MID', 92, 120],\n",
       "  ['Connor Hayes', 'MID', 89, 105],\n",
       "  ['Dylan Morgan', 'MID', 91, 115],\n",
       "  ['Hunter Cooper', 'MID', 83, 85],\n",
       "  ['Austin Torres', 'MID', 82, 80],\n",
       "  ['Gavin Richardson', 'MID', 87, 95],\n",
       "  ['Spencer Ward', 'MID', 84, 85],\n",
       "  ['Bentley Rivera', 'MID', 88, 100],\n",
       "  ['Dominic Bell', 'MID', 86, 95],\n",
       "  ['Ashton Phillips', 'MID', 90, 110]],\n",
       " 'FWD': [['Sebastian Perry', 'FWD', 95, 150],\n",
       "  ['Xavier Bryant', 'FWD', 90, 120],\n",
       "  ['Elijah Sanders', 'FWD', 93, 140],\n",
       "  ['Adrian Collins', 'FWD', 85, 90],\n",
       "  ['Tyler Jenkins', 'FWD', 80, 70],\n",
       "  ['Chase Murphy', 'FWD', 86, 95],\n",
       "  ['Landon Powell', 'FWD', 89, 110],\n",
       "  ['Julian Scott', 'FWD', 92, 130],\n",
       "  ['Colton Gray', 'FWD', 91, 125],\n",
       "  ['Zachary Nelson', 'FWD', 86, 92]]}"
      ]
     },
     "execution_count": 10,
     "metadata": {},
     "output_type": "execute_result"
    }
   ],
   "source": [
    "position_groups = {pos: df[df[\"Position\"] == pos].values.tolist() for pos in position}\n",
    "\n",
    "position_groups"
   ]
  },
  {
   "cell_type": "markdown",
   "metadata": {},
   "source": [
    "# Genetic algorytm with one constrain"
   ]
  },
  {
   "cell_type": "markdown",
   "metadata": {},
   "source": [
    "to first build the algorythm we decided to make it work only with the constrain of **balance team**<br>\n",
    " &rarr; in that sence the fitness should look as shown below"
   ]
  },
  {
   "cell_type": "code",
   "execution_count": null,
   "metadata": {},
   "outputs": [],
   "source": [
    "def fitness(individual):\n",
    "    team_avgs = individual.groupby('Team')['Skill'].mean()\n",
    "    return np.std(team_avgs)"
   ]
  },
  {
   "cell_type": "code",
   "execution_count": 12,
   "metadata": {},
   "outputs": [
    {
     "name": "stdout",
     "output_type": "stream",
     "text": [
      "Generation 0: std = 0.4081\n",
      "Generation 20: std = 0.1400\n"
     ]
    },
    {
     "ename": "KeyboardInterrupt",
     "evalue": "",
     "output_type": "error",
     "traceback": [
      "\u001b[0;31m---------------------------------------------------------------------------\u001b[0m",
      "\u001b[0;31mKeyboardInterrupt\u001b[0m                         Traceback (most recent call last)",
      "Cell \u001b[0;32mIn[12], line 91\u001b[0m\n\u001b[1;32m     88\u001b[0m     \u001b[38;5;28;01mreturn\u001b[39;00m best_solution\n\u001b[1;32m     90\u001b[0m \u001b[38;5;66;03m# Run GA\u001b[39;00m\n\u001b[0;32m---> 91\u001b[0m best_teams \u001b[38;5;241m=\u001b[39m \u001b[43mgenetic_algorithm\u001b[49m\u001b[43m(\u001b[49m\u001b[43mposition_groups\u001b[49m\u001b[43m)\u001b[49m\n\u001b[1;32m     92\u001b[0m \u001b[38;5;28mprint\u001b[39m(best_teams\u001b[38;5;241m.\u001b[39msort_values(by\u001b[38;5;241m=\u001b[39m\u001b[38;5;124m'\u001b[39m\u001b[38;5;124mTeam\u001b[39m\u001b[38;5;124m'\u001b[39m))\n",
      "Cell \u001b[0;32mIn[12], line 74\u001b[0m, in \u001b[0;36mgenetic_algorithm\u001b[0;34m(position_groups)\u001b[0m\n\u001b[1;32m     72\u001b[0m parent1 \u001b[38;5;241m=\u001b[39m tournament_selection(population)\n\u001b[1;32m     73\u001b[0m parent2 \u001b[38;5;241m=\u001b[39m tournament_selection(population)\n\u001b[0;32m---> 74\u001b[0m child \u001b[38;5;241m=\u001b[39m \u001b[43mcrossover\u001b[49m\u001b[43m(\u001b[49m\u001b[43mparent1\u001b[49m\u001b[43m,\u001b[49m\u001b[43m \u001b[49m\u001b[43mparent2\u001b[49m\u001b[43m)\u001b[49m\n\u001b[1;32m     75\u001b[0m child \u001b[38;5;241m=\u001b[39m mutate(child)\n\u001b[1;32m     76\u001b[0m new_population\u001b[38;5;241m.\u001b[39mappend(child)\n",
      "Cell \u001b[0;32mIn[12], line 47\u001b[0m, in \u001b[0;36mcrossover\u001b[0;34m(parent1, parent2)\u001b[0m\n\u001b[1;32m     45\u001b[0m \u001b[38;5;28;01mdef\u001b[39;00m \u001b[38;5;21mcrossover\u001b[39m(parent1, parent2):\n\u001b[1;32m     46\u001b[0m     split \u001b[38;5;241m=\u001b[39m random\u001b[38;5;241m.\u001b[39mrandint(\u001b[38;5;241m1\u001b[39m, \u001b[38;5;28mlen\u001b[39m(parent1) \u001b[38;5;241m-\u001b[39m \u001b[38;5;241m2\u001b[39m)\n\u001b[0;32m---> 47\u001b[0m     child \u001b[38;5;241m=\u001b[39m \u001b[43mpd\u001b[49m\u001b[38;5;241;43m.\u001b[39;49m\u001b[43mconcat\u001b[49m\u001b[43m(\u001b[49m\u001b[43m[\u001b[49m\u001b[43mparent1\u001b[49m\u001b[38;5;241;43m.\u001b[39;49m\u001b[43miloc\u001b[49m\u001b[43m[\u001b[49m\u001b[43m:\u001b[49m\u001b[43msplit\u001b[49m\u001b[43m]\u001b[49m\u001b[43m,\u001b[49m\u001b[43m \u001b[49m\u001b[43mparent2\u001b[49m\u001b[38;5;241;43m.\u001b[39;49m\u001b[43miloc\u001b[49m\u001b[43m[\u001b[49m\u001b[43msplit\u001b[49m\u001b[43m:\u001b[49m\u001b[43m]\u001b[49m\u001b[43m]\u001b[49m\u001b[43m)\u001b[49m\u001b[38;5;241m.\u001b[39mcopy()\n\u001b[1;32m     48\u001b[0m     child \u001b[38;5;241m=\u001b[39m child\u001b[38;5;241m.\u001b[39msample(frac\u001b[38;5;241m=\u001b[39m\u001b[38;5;241m1\u001b[39m)\u001b[38;5;241m.\u001b[39mreset_index(drop\u001b[38;5;241m=\u001b[39m\u001b[38;5;28;01mTrue\u001b[39;00m)\n\u001b[1;32m     49\u001b[0m     child[\u001b[38;5;124m'\u001b[39m\u001b[38;5;124mTeam\u001b[39m\u001b[38;5;124m'\u001b[39m] \u001b[38;5;241m=\u001b[39m np\u001b[38;5;241m.\u001b[39mrepeat(\u001b[38;5;28mrange\u001b[39m(TEAM_COUNT), \u001b[38;5;28msum\u001b[39m(TEAM_STRUCTURE\u001b[38;5;241m.\u001b[39mvalues()))\n",
      "File \u001b[0;32m/opt/anaconda3/envs/DM2425/lib/python3.12/site-packages/pandas/core/reshape/concat.py:395\u001b[0m, in \u001b[0;36mconcat\u001b[0;34m(objs, axis, join, ignore_index, keys, levels, names, verify_integrity, sort, copy)\u001b[0m\n\u001b[1;32m    380\u001b[0m     copy \u001b[38;5;241m=\u001b[39m \u001b[38;5;28;01mFalse\u001b[39;00m\n\u001b[1;32m    382\u001b[0m op \u001b[38;5;241m=\u001b[39m _Concatenator(\n\u001b[1;32m    383\u001b[0m     objs,\n\u001b[1;32m    384\u001b[0m     axis\u001b[38;5;241m=\u001b[39maxis,\n\u001b[0;32m   (...)\u001b[0m\n\u001b[1;32m    392\u001b[0m     sort\u001b[38;5;241m=\u001b[39msort,\n\u001b[1;32m    393\u001b[0m )\n\u001b[0;32m--> 395\u001b[0m \u001b[38;5;28;01mreturn\u001b[39;00m \u001b[43mop\u001b[49m\u001b[38;5;241;43m.\u001b[39;49m\u001b[43mget_result\u001b[49m\u001b[43m(\u001b[49m\u001b[43m)\u001b[49m\n",
      "File \u001b[0;32m/opt/anaconda3/envs/DM2425/lib/python3.12/site-packages/pandas/core/reshape/concat.py:684\u001b[0m, in \u001b[0;36m_Concatenator.get_result\u001b[0;34m(self)\u001b[0m\n\u001b[1;32m    680\u001b[0m             indexers[ax] \u001b[38;5;241m=\u001b[39m obj_labels\u001b[38;5;241m.\u001b[39mget_indexer(new_labels)\n\u001b[1;32m    682\u001b[0m     mgrs_indexers\u001b[38;5;241m.\u001b[39mappend((obj\u001b[38;5;241m.\u001b[39m_mgr, indexers))\n\u001b[0;32m--> 684\u001b[0m new_data \u001b[38;5;241m=\u001b[39m \u001b[43mconcatenate_managers\u001b[49m\u001b[43m(\u001b[49m\n\u001b[1;32m    685\u001b[0m \u001b[43m    \u001b[49m\u001b[43mmgrs_indexers\u001b[49m\u001b[43m,\u001b[49m\u001b[43m \u001b[49m\u001b[38;5;28;43mself\u001b[39;49m\u001b[38;5;241;43m.\u001b[39;49m\u001b[43mnew_axes\u001b[49m\u001b[43m,\u001b[49m\u001b[43m \u001b[49m\u001b[43mconcat_axis\u001b[49m\u001b[38;5;241;43m=\u001b[39;49m\u001b[38;5;28;43mself\u001b[39;49m\u001b[38;5;241;43m.\u001b[39;49m\u001b[43mbm_axis\u001b[49m\u001b[43m,\u001b[49m\u001b[43m \u001b[49m\u001b[43mcopy\u001b[49m\u001b[38;5;241;43m=\u001b[39;49m\u001b[38;5;28;43mself\u001b[39;49m\u001b[38;5;241;43m.\u001b[39;49m\u001b[43mcopy\u001b[49m\n\u001b[1;32m    686\u001b[0m \u001b[43m\u001b[49m\u001b[43m)\u001b[49m\n\u001b[1;32m    687\u001b[0m \u001b[38;5;28;01mif\u001b[39;00m \u001b[38;5;129;01mnot\u001b[39;00m \u001b[38;5;28mself\u001b[39m\u001b[38;5;241m.\u001b[39mcopy \u001b[38;5;129;01mand\u001b[39;00m \u001b[38;5;129;01mnot\u001b[39;00m using_copy_on_write():\n\u001b[1;32m    688\u001b[0m     new_data\u001b[38;5;241m.\u001b[39m_consolidate_inplace()\n",
      "File \u001b[0;32m/opt/anaconda3/envs/DM2425/lib/python3.12/site-packages/pandas/core/internals/concat.py:157\u001b[0m, in \u001b[0;36mconcatenate_managers\u001b[0;34m(mgrs_indexers, axes, concat_axis, copy)\u001b[0m\n\u001b[1;32m    154\u001b[0m     out\u001b[38;5;241m.\u001b[39maxes \u001b[38;5;241m=\u001b[39m axes\n\u001b[1;32m    155\u001b[0m     \u001b[38;5;28;01mreturn\u001b[39;00m out\n\u001b[0;32m--> 157\u001b[0m concat_plan \u001b[38;5;241m=\u001b[39m \u001b[43m_get_combined_plan\u001b[49m\u001b[43m(\u001b[49m\u001b[43mmgrs\u001b[49m\u001b[43m)\u001b[49m\n\u001b[1;32m    159\u001b[0m blocks \u001b[38;5;241m=\u001b[39m []\n\u001b[1;32m    160\u001b[0m values: ArrayLike\n",
      "File \u001b[0;32m/opt/anaconda3/envs/DM2425/lib/python3.12/site-packages/pandas/core/internals/concat.py:313\u001b[0m, in \u001b[0;36m_get_combined_plan\u001b[0;34m(mgrs)\u001b[0m\n\u001b[1;32m    310\u001b[0m \u001b[38;5;28;01mfor\u001b[39;00m k, mgr \u001b[38;5;129;01min\u001b[39;00m \u001b[38;5;28menumerate\u001b[39m(mgrs):\n\u001b[1;32m    311\u001b[0m     blkno \u001b[38;5;241m=\u001b[39m blknos[k]\n\u001b[0;32m--> 313\u001b[0m     nb \u001b[38;5;241m=\u001b[39m \u001b[43m_get_block_for_concat_plan\u001b[49m\u001b[43m(\u001b[49m\u001b[43mmgr\u001b[49m\u001b[43m,\u001b[49m\u001b[43m \u001b[49m\u001b[43mbp\u001b[49m\u001b[43m,\u001b[49m\u001b[43m \u001b[49m\u001b[43mblkno\u001b[49m\u001b[43m,\u001b[49m\u001b[43m \u001b[49m\u001b[43mmax_len\u001b[49m\u001b[38;5;241;43m=\u001b[39;49m\u001b[43mmax_len\u001b[49m\u001b[43m)\u001b[49m\n\u001b[1;32m    314\u001b[0m     unit \u001b[38;5;241m=\u001b[39m JoinUnit(nb)\n\u001b[1;32m    315\u001b[0m     units_for_bp\u001b[38;5;241m.\u001b[39mappend(unit)\n",
      "File \u001b[0;32m/opt/anaconda3/envs/DM2425/lib/python3.12/site-packages/pandas/core/internals/concat.py:338\u001b[0m, in \u001b[0;36m_get_block_for_concat_plan\u001b[0;34m(mgr, bp, blkno, max_len)\u001b[0m\n\u001b[1;32m    335\u001b[0m \u001b[38;5;28;01melse\u001b[39;00m:\n\u001b[1;32m    336\u001b[0m     ax0_blk_indexer \u001b[38;5;241m=\u001b[39m mgr\u001b[38;5;241m.\u001b[39mblklocs[bp\u001b[38;5;241m.\u001b[39mindexer]\n\u001b[0;32m--> 338\u001b[0m     slc \u001b[38;5;241m=\u001b[39m \u001b[43mlib\u001b[49m\u001b[38;5;241;43m.\u001b[39;49m\u001b[43mmaybe_indices_to_slice\u001b[49m\u001b[43m(\u001b[49m\u001b[43max0_blk_indexer\u001b[49m\u001b[43m,\u001b[49m\u001b[43m \u001b[49m\u001b[43mmax_len\u001b[49m\u001b[43m)\u001b[49m\n\u001b[1;32m    339\u001b[0m     \u001b[38;5;66;03m# TODO: in all extant test cases 2023-04-08 we have a slice here.\u001b[39;00m\n\u001b[1;32m    340\u001b[0m     \u001b[38;5;66;03m#  Will this always be the case?\u001b[39;00m\n\u001b[1;32m    341\u001b[0m     \u001b[38;5;28;01mif\u001b[39;00m \u001b[38;5;28misinstance\u001b[39m(slc, \u001b[38;5;28mslice\u001b[39m):\n",
      "\u001b[0;31mKeyboardInterrupt\u001b[0m: "
     ]
    }
   ],
   "source": [
    "import random\n",
    "import numpy as np\n",
    "import pandas as pd\n",
    "\n",
    "# Constants\n",
    "TEAM_COUNT = 5\n",
    "TEAM_STRUCTURE = {\n",
    "    'GK': 1,\n",
    "    'DEF': 2,\n",
    "    'MID': 2,\n",
    "    'FWD': 2\n",
    "}\n",
    "POPULATION_SIZE = 100\n",
    "GENERATIONS = 300\n",
    "MUTATION_RATE = 0.1\n",
    "TOURNAMENT_SIZE = 5\n",
    "\n",
    "# Utility: Generate initial population\n",
    "def generate_initial_population(position_groups):\n",
    "    population = []\n",
    "    for _ in range(POPULATION_SIZE):\n",
    "        players = []\n",
    "        for pos, required_per_team in TEAM_STRUCTURE.items():\n",
    "            total_needed = required_per_team * TEAM_COUNT\n",
    "            selected = random.sample(position_groups[pos], total_needed)\n",
    "            players.extend([[p[0], p[1], p[2], p[1]] for p in selected]) # Just to be sure position is there\n",
    "\n",
    "        random.shuffle(players)\n",
    "        df = pd.DataFrame(players, columns=['Player', 'Position', 'Skill', 'Pos'])\n",
    "        df['Team'] = np.repeat(range(TEAM_COUNT), sum(TEAM_STRUCTURE.values()))\n",
    "        population.append(df)\n",
    "    return population\n",
    "\n",
    "# Fitness = standard deviation of average skill per team\n",
    "def evaluate_fitness(individual):\n",
    "    team_avgs = individual.groupby('Team')['Skill'].mean()\n",
    "    return np.std(team_avgs)\n",
    "\n",
    "# Tournament selection\n",
    "def tournament_selection(population):\n",
    "    selected = random.sample(population, TOURNAMENT_SIZE)\n",
    "    return min(selected, key=evaluate_fitness)\n",
    "\n",
    "# Crossover: single-point\n",
    "def crossover(parent1, parent2):\n",
    "    split = random.randint(1, len(parent1) - 2)\n",
    "    child = pd.concat([parent1.iloc[:split], parent2.iloc[split:]]).copy()\n",
    "    child = child.sample(frac=1).reset_index(drop=True)\n",
    "    child['Team'] = np.repeat(range(TEAM_COUNT), sum(TEAM_STRUCTURE.values()))\n",
    "    return child\n",
    "\n",
    "# Mutation: swap same-position players\n",
    "def mutate(individual):\n",
    "    if random.random() < MUTATION_RATE:\n",
    "        idx1, idx2 = random.sample(range(len(individual)), 2)\n",
    "        if individual.loc[idx1, 'Position'] == individual.loc[idx2, 'Position']:\n",
    "            individual.loc[idx1, 'Team'], individual.loc[idx2, 'Team'] = (\n",
    "                individual.loc[idx2, 'Team'],\n",
    "                individual.loc[idx1, 'Team']\n",
    "            )\n",
    "    return individual\n",
    "\n",
    "# Main GA function\n",
    "def genetic_algorithm(position_groups):\n",
    "    population = generate_initial_population(position_groups)\n",
    "    best_fitness = float('inf')\n",
    "    best_solution = None\n",
    "\n",
    "    for generation in range(GENERATIONS):\n",
    "        new_population = []\n",
    "        for _ in range(POPULATION_SIZE):\n",
    "            parent1 = tournament_selection(population)\n",
    "            parent2 = tournament_selection(population)\n",
    "            child = crossover(parent1, parent2)\n",
    "            child = mutate(child)\n",
    "            new_population.append(child)\n",
    "\n",
    "        population = new_population\n",
    "        best_candidate = min(population, key=evaluate_fitness)\n",
    "        fitness = evaluate_fitness(best_candidate)\n",
    "        if fitness < best_fitness:\n",
    "            best_fitness = fitness\n",
    "            best_solution = best_candidate\n",
    "\n",
    "        if generation % 20 == 0:\n",
    "            print(f\"Generation {generation}: std = {fitness:.4f}\")\n",
    "\n",
    "    return best_solution\n",
    "\n",
    "# Run GA\n",
    "best_teams = genetic_algorithm(position_groups)\n",
    "print(best_teams.sort_values(by='Team'))\n"
   ]
  }
 ],
 "metadata": {
  "kernelspec": {
   "display_name": "DM2425",
   "language": "python",
   "name": "python3"
  },
  "language_info": {
   "codemirror_mode": {
    "name": "ipython",
    "version": 3
   },
   "file_extension": ".py",
   "mimetype": "text/x-python",
   "name": "python",
   "nbconvert_exporter": "python",
   "pygments_lexer": "ipython3",
   "version": "3.12.7"
  }
 },
 "nbformat": 4,
 "nbformat_minor": 2
}
