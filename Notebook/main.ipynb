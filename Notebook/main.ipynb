{
 "cells": [
  {
   "cell_type": "markdown",
   "metadata": {},
   "source": [
    "# **Fantasy Sports League Optimization**\n",
    "\n",
    "## **Project Description**\n",
    "This project focuses on optimizing team assignments in a fantasy sports league while ensuring a balanced distribution of talent and adherence to salary constraints. Given a dataset of players with attributes such as skill rating, cost, and position, we aim to assign them to five teams while following strict constraints and achieving a balanced league.\n",
    "\n",
    "## **Constraints**\n",
    "- Each team must consist of:\n",
    "  - 1 Goalkeeper (GK)  \n",
    "  - 2 Defenders (DEF)  \n",
    "  - 2 Midfielders (MID)  \n",
    "  - 2 Forwards (FWD)  \n",
    "- Each player is assigned to exactly one team.  \n",
    "- No team may exceed a total budget of **750 million €**.  \n",
    "- The standard deviation of the average skill rating of all teams should be minimized to ensure fairness.  \n",
    "\n",
    "## **Objective**\n",
    "To generate a valid league configuration that follows all constraints and ensures that teams have a similar overall skill level, measured by the standard deviation of their average skill ratings.\n",
    "\n",
    "## **Group Members**\n",
    "\n",
    "### **Group X**\n",
    "\n",
    "| Name                  | Student Number  |\n",
    "|-----------------------|----------------|\n",
    "| Philippe Dutranoit   | 20240518        |\n",
    "| Name 2               | Student Number 2 |\n",
    "| Name 3               | Student Number 3 |\n",
    "| Name 4               | Student Number 4 |"
   ]
  },
  {
   "cell_type": "markdown",
   "metadata": {},
   "source": [
    "# Imports "
   ]
  },
  {
   "cell_type": "code",
   "execution_count": 1,
   "metadata": {},
   "outputs": [],
   "source": [
    "import os\n",
    "import pandas as pd\n",
    "import numpy as np\n",
    "import matplotlib.pyplot as plt\n",
    "import seaborn as sns"
   ]
  },
  {
   "cell_type": "code",
   "execution_count": 2,
   "metadata": {},
   "outputs": [],
   "source": [
    "df = pd.read_csv('../Data/players(in).csv')"
   ]
  },
  {
   "cell_type": "code",
   "execution_count": 4,
   "metadata": {},
   "outputs": [
    {
     "ename": "KeyError",
     "evalue": "\"['Unnamed: 0'] not found in axis\"",
     "output_type": "error",
     "traceback": [
      "\u001b[0;31m---------------------------------------------------------------------------\u001b[0m",
      "\u001b[0;31mKeyError\u001b[0m                                  Traceback (most recent call last)",
      "Cell \u001b[0;32mIn[4], line 1\u001b[0m\n\u001b[0;32m----> 1\u001b[0m \u001b[43mdf\u001b[49m\u001b[38;5;241;43m.\u001b[39;49m\u001b[43mdrop\u001b[49m\u001b[43m(\u001b[49m\u001b[43mcolumns\u001b[49m\u001b[38;5;241;43m=\u001b[39;49m\u001b[43m[\u001b[49m\u001b[38;5;124;43m'\u001b[39;49m\u001b[38;5;124;43mUnnamed: 0\u001b[39;49m\u001b[38;5;124;43m'\u001b[39;49m\u001b[43m]\u001b[49m\u001b[43m,\u001b[49m\u001b[43m \u001b[49m\u001b[43minplace\u001b[49m\u001b[38;5;241;43m=\u001b[39;49m\u001b[38;5;28;43;01mTrue\u001b[39;49;00m\u001b[43m)\u001b[49m \u001b[38;5;66;03m# drop a column that as no information \u001b[39;00m\n\u001b[1;32m      2\u001b[0m df\u001b[38;5;241m.\u001b[39mhea\n",
      "File \u001b[0;32m/opt/anaconda3/envs/DM2425/lib/python3.12/site-packages/pandas/core/frame.py:5581\u001b[0m, in \u001b[0;36mDataFrame.drop\u001b[0;34m(self, labels, axis, index, columns, level, inplace, errors)\u001b[0m\n\u001b[1;32m   5433\u001b[0m \u001b[38;5;28;01mdef\u001b[39;00m \u001b[38;5;21mdrop\u001b[39m(\n\u001b[1;32m   5434\u001b[0m     \u001b[38;5;28mself\u001b[39m,\n\u001b[1;32m   5435\u001b[0m     labels: IndexLabel \u001b[38;5;241m|\u001b[39m \u001b[38;5;28;01mNone\u001b[39;00m \u001b[38;5;241m=\u001b[39m \u001b[38;5;28;01mNone\u001b[39;00m,\n\u001b[0;32m   (...)\u001b[0m\n\u001b[1;32m   5442\u001b[0m     errors: IgnoreRaise \u001b[38;5;241m=\u001b[39m \u001b[38;5;124m\"\u001b[39m\u001b[38;5;124mraise\u001b[39m\u001b[38;5;124m\"\u001b[39m,\n\u001b[1;32m   5443\u001b[0m ) \u001b[38;5;241m-\u001b[39m\u001b[38;5;241m>\u001b[39m DataFrame \u001b[38;5;241m|\u001b[39m \u001b[38;5;28;01mNone\u001b[39;00m:\n\u001b[1;32m   5444\u001b[0m \u001b[38;5;250m    \u001b[39m\u001b[38;5;124;03m\"\"\"\u001b[39;00m\n\u001b[1;32m   5445\u001b[0m \u001b[38;5;124;03m    Drop specified labels from rows or columns.\u001b[39;00m\n\u001b[1;32m   5446\u001b[0m \n\u001b[0;32m   (...)\u001b[0m\n\u001b[1;32m   5579\u001b[0m \u001b[38;5;124;03m            weight  1.0     0.8\u001b[39;00m\n\u001b[1;32m   5580\u001b[0m \u001b[38;5;124;03m    \"\"\"\u001b[39;00m\n\u001b[0;32m-> 5581\u001b[0m     \u001b[38;5;28;01mreturn\u001b[39;00m \u001b[38;5;28;43msuper\u001b[39;49m\u001b[43m(\u001b[49m\u001b[43m)\u001b[49m\u001b[38;5;241;43m.\u001b[39;49m\u001b[43mdrop\u001b[49m\u001b[43m(\u001b[49m\n\u001b[1;32m   5582\u001b[0m \u001b[43m        \u001b[49m\u001b[43mlabels\u001b[49m\u001b[38;5;241;43m=\u001b[39;49m\u001b[43mlabels\u001b[49m\u001b[43m,\u001b[49m\n\u001b[1;32m   5583\u001b[0m \u001b[43m        \u001b[49m\u001b[43maxis\u001b[49m\u001b[38;5;241;43m=\u001b[39;49m\u001b[43maxis\u001b[49m\u001b[43m,\u001b[49m\n\u001b[1;32m   5584\u001b[0m \u001b[43m        \u001b[49m\u001b[43mindex\u001b[49m\u001b[38;5;241;43m=\u001b[39;49m\u001b[43mindex\u001b[49m\u001b[43m,\u001b[49m\n\u001b[1;32m   5585\u001b[0m \u001b[43m        \u001b[49m\u001b[43mcolumns\u001b[49m\u001b[38;5;241;43m=\u001b[39;49m\u001b[43mcolumns\u001b[49m\u001b[43m,\u001b[49m\n\u001b[1;32m   5586\u001b[0m \u001b[43m        \u001b[49m\u001b[43mlevel\u001b[49m\u001b[38;5;241;43m=\u001b[39;49m\u001b[43mlevel\u001b[49m\u001b[43m,\u001b[49m\n\u001b[1;32m   5587\u001b[0m \u001b[43m        \u001b[49m\u001b[43minplace\u001b[49m\u001b[38;5;241;43m=\u001b[39;49m\u001b[43minplace\u001b[49m\u001b[43m,\u001b[49m\n\u001b[1;32m   5588\u001b[0m \u001b[43m        \u001b[49m\u001b[43merrors\u001b[49m\u001b[38;5;241;43m=\u001b[39;49m\u001b[43merrors\u001b[49m\u001b[43m,\u001b[49m\n\u001b[1;32m   5589\u001b[0m \u001b[43m    \u001b[49m\u001b[43m)\u001b[49m\n",
      "File \u001b[0;32m/opt/anaconda3/envs/DM2425/lib/python3.12/site-packages/pandas/core/generic.py:4788\u001b[0m, in \u001b[0;36mNDFrame.drop\u001b[0;34m(self, labels, axis, index, columns, level, inplace, errors)\u001b[0m\n\u001b[1;32m   4786\u001b[0m \u001b[38;5;28;01mfor\u001b[39;00m axis, labels \u001b[38;5;129;01min\u001b[39;00m axes\u001b[38;5;241m.\u001b[39mitems():\n\u001b[1;32m   4787\u001b[0m     \u001b[38;5;28;01mif\u001b[39;00m labels \u001b[38;5;129;01mis\u001b[39;00m \u001b[38;5;129;01mnot\u001b[39;00m \u001b[38;5;28;01mNone\u001b[39;00m:\n\u001b[0;32m-> 4788\u001b[0m         obj \u001b[38;5;241m=\u001b[39m \u001b[43mobj\u001b[49m\u001b[38;5;241;43m.\u001b[39;49m\u001b[43m_drop_axis\u001b[49m\u001b[43m(\u001b[49m\u001b[43mlabels\u001b[49m\u001b[43m,\u001b[49m\u001b[43m \u001b[49m\u001b[43maxis\u001b[49m\u001b[43m,\u001b[49m\u001b[43m \u001b[49m\u001b[43mlevel\u001b[49m\u001b[38;5;241;43m=\u001b[39;49m\u001b[43mlevel\u001b[49m\u001b[43m,\u001b[49m\u001b[43m \u001b[49m\u001b[43merrors\u001b[49m\u001b[38;5;241;43m=\u001b[39;49m\u001b[43merrors\u001b[49m\u001b[43m)\u001b[49m\n\u001b[1;32m   4790\u001b[0m \u001b[38;5;28;01mif\u001b[39;00m inplace:\n\u001b[1;32m   4791\u001b[0m     \u001b[38;5;28mself\u001b[39m\u001b[38;5;241m.\u001b[39m_update_inplace(obj)\n",
      "File \u001b[0;32m/opt/anaconda3/envs/DM2425/lib/python3.12/site-packages/pandas/core/generic.py:4830\u001b[0m, in \u001b[0;36mNDFrame._drop_axis\u001b[0;34m(self, labels, axis, level, errors, only_slice)\u001b[0m\n\u001b[1;32m   4828\u001b[0m         new_axis \u001b[38;5;241m=\u001b[39m axis\u001b[38;5;241m.\u001b[39mdrop(labels, level\u001b[38;5;241m=\u001b[39mlevel, errors\u001b[38;5;241m=\u001b[39merrors)\n\u001b[1;32m   4829\u001b[0m     \u001b[38;5;28;01melse\u001b[39;00m:\n\u001b[0;32m-> 4830\u001b[0m         new_axis \u001b[38;5;241m=\u001b[39m \u001b[43maxis\u001b[49m\u001b[38;5;241;43m.\u001b[39;49m\u001b[43mdrop\u001b[49m\u001b[43m(\u001b[49m\u001b[43mlabels\u001b[49m\u001b[43m,\u001b[49m\u001b[43m \u001b[49m\u001b[43merrors\u001b[49m\u001b[38;5;241;43m=\u001b[39;49m\u001b[43merrors\u001b[49m\u001b[43m)\u001b[49m\n\u001b[1;32m   4831\u001b[0m     indexer \u001b[38;5;241m=\u001b[39m axis\u001b[38;5;241m.\u001b[39mget_indexer(new_axis)\n\u001b[1;32m   4833\u001b[0m \u001b[38;5;66;03m# Case for non-unique axis\u001b[39;00m\n\u001b[1;32m   4834\u001b[0m \u001b[38;5;28;01melse\u001b[39;00m:\n",
      "File \u001b[0;32m/opt/anaconda3/envs/DM2425/lib/python3.12/site-packages/pandas/core/indexes/base.py:7070\u001b[0m, in \u001b[0;36mIndex.drop\u001b[0;34m(self, labels, errors)\u001b[0m\n\u001b[1;32m   7068\u001b[0m \u001b[38;5;28;01mif\u001b[39;00m mask\u001b[38;5;241m.\u001b[39many():\n\u001b[1;32m   7069\u001b[0m     \u001b[38;5;28;01mif\u001b[39;00m errors \u001b[38;5;241m!=\u001b[39m \u001b[38;5;124m\"\u001b[39m\u001b[38;5;124mignore\u001b[39m\u001b[38;5;124m\"\u001b[39m:\n\u001b[0;32m-> 7070\u001b[0m         \u001b[38;5;28;01mraise\u001b[39;00m \u001b[38;5;167;01mKeyError\u001b[39;00m(\u001b[38;5;124mf\u001b[39m\u001b[38;5;124m\"\u001b[39m\u001b[38;5;132;01m{\u001b[39;00mlabels[mask]\u001b[38;5;241m.\u001b[39mtolist()\u001b[38;5;132;01m}\u001b[39;00m\u001b[38;5;124m not found in axis\u001b[39m\u001b[38;5;124m\"\u001b[39m)\n\u001b[1;32m   7071\u001b[0m     indexer \u001b[38;5;241m=\u001b[39m indexer[\u001b[38;5;241m~\u001b[39mmask]\n\u001b[1;32m   7072\u001b[0m \u001b[38;5;28;01mreturn\u001b[39;00m \u001b[38;5;28mself\u001b[39m\u001b[38;5;241m.\u001b[39mdelete(indexer)\n",
      "\u001b[0;31mKeyError\u001b[0m: \"['Unnamed: 0'] not found in axis\""
     ]
    }
   ],
   "source": [
    "df.drop(columns=['Unnamed: 0'], inplace=True) # drop a column that as no information \n",
    "df.hea\n"
   ]
  },
  {
   "cell_type": "markdown",
   "metadata": {},
   "source": [
    "# Defining The constraints"
   ]
  },
  {
   "cell_type": "code",
   "execution_count": 5,
   "metadata": {},
   "outputs": [],
   "source": [
    "position = {\"GK\": 1, \"DEF\": 2, \"MID\": 2, \"FWD\": 2}\n",
    "budget = 750 \n",
    "total_players = 5 # as 35 rows devided by seven position = 5 teams\n",
    "team_size = sum(position.values())"
   ]
  },
  {
   "cell_type": "code",
   "execution_count": null,
   "metadata": {},
   "outputs": [],
   "source": []
  },
  {
   "cell_type": "code",
   "execution_count": 6,
   "metadata": {},
   "outputs": [
    {
     "data": {
      "text/plain": [
       "{'GK': [['Alex Carter', 'GK', 85, 90],\n",
       "  ['Jordan Smith', 'GK', 88, 100],\n",
       "  ['Ryan Mitchell', 'GK', 83, 85],\n",
       "  ['Chris Thompson', 'GK', 80, 80],\n",
       "  ['Blake Henderson', 'GK', 87, 95]],\n",
       " 'DEF': [['Daniel Foster', 'DEF', 90, 110],\n",
       "  ['Lucas Bennett', 'DEF', 85, 90],\n",
       "  ['Owen Parker', 'DEF', 88, 100],\n",
       "  ['Ethan Howard', 'DEF', 80, 70],\n",
       "  ['Mason Reed', 'DEF', 82, 75],\n",
       "  ['Logan Brooks', 'DEF', 86, 95],\n",
       "  ['Caleb Fisher', 'DEF', 84, 85],\n",
       "  ['Maxwell Flores', 'DEF', 81, 72],\n",
       "  ['Jaxon Griffin', 'DEF', 79, 65],\n",
       "  ['Brayden Hughes', 'DEF', 87, 100]],\n",
       " 'MID': [['Nathan Wright', 'MID', 92, 120],\n",
       "  ['Connor Hayes', 'MID', 89, 105],\n",
       "  ['Dylan Morgan', 'MID', 91, 115],\n",
       "  ['Hunter Cooper', 'MID', 83, 85],\n",
       "  ['Austin Torres', 'MID', 82, 80],\n",
       "  ['Gavin Richardson', 'MID', 87, 95],\n",
       "  ['Spencer Ward', 'MID', 84, 85],\n",
       "  ['Bentley Rivera', 'MID', 88, 100],\n",
       "  ['Dominic Bell', 'MID', 86, 95],\n",
       "  ['Ashton Phillips', 'MID', 90, 110]],\n",
       " 'FWD': [['Sebastian Perry', 'FWD', 95, 150],\n",
       "  ['Xavier Bryant', 'FWD', 90, 120],\n",
       "  ['Elijah Sanders', 'FWD', 93, 140],\n",
       "  ['Adrian Collins', 'FWD', 85, 90],\n",
       "  ['Tyler Jenkins', 'FWD', 80, 70],\n",
       "  ['Chase Murphy', 'FWD', 86, 95],\n",
       "  ['Landon Powell', 'FWD', 89, 110],\n",
       "  ['Julian Scott', 'FWD', 92, 130],\n",
       "  ['Colton Gray', 'FWD', 91, 125],\n",
       "  ['Zachary Nelson', 'FWD', 86, 92]]}"
      ]
     },
     "execution_count": 6,
     "metadata": {},
     "output_type": "execute_result"
    }
   ],
   "source": [
    "# create a dictionary to group players by position\n",
    "position_groups = {pos: df[df[\"Position\"] == pos].values.tolist() for pos in position}\n",
    "\n",
    "position_groups"
   ]
  },
  {
   "cell_type": "markdown",
   "metadata": {},
   "source": [
    "# chatgpt example with only skills into account"
   ]
  },
  {
   "cell_type": "code",
   "execution_count": 9,
   "metadata": {},
   "outputs": [
    {
     "name": "stdout",
     "output_type": "stream",
     "text": [
      "Generation 0: std = 0.5952\n",
      "Generation 20: std = 0.1565\n",
      "Generation 40: std = 0.0700\n",
      "Generation 60: std = 0.0000\n",
      "Generation 80: std = 0.0000\n",
      "Generation 100: std = 0.0000\n",
      "Generation 120: std = 0.0000\n",
      "Generation 140: std = 0.0000\n",
      "Generation 160: std = 0.0000\n",
      "Generation 180: std = 0.0000\n",
      "Generation 200: std = 0.0000\n",
      "Generation 220: std = 0.0000\n",
      "Generation 240: std = 0.0000\n",
      "Generation 260: std = 0.0000\n",
      "Generation 280: std = 0.0000\n",
      "              Player Position  Skill  Pos  Team\n",
      "0       Logan Brooks      DEF     86  DEF     0\n",
      "1     Brayden Hughes      DEF     87  DEF     0\n",
      "2     Brayden Hughes      DEF     87  DEF     0\n",
      "3       Chase Murphy      FWD     86  FWD     0\n",
      "4     Brayden Hughes      DEF     87  DEF     0\n",
      "5     Zachary Nelson      FWD     86  FWD     0\n",
      "6       Logan Brooks      DEF     86  DEF     0\n",
      "13    Brayden Hughes      DEF     87  DEF     1\n",
      "12    Zachary Nelson      FWD     86  FWD     1\n",
      "11      Logan Brooks      DEF     86  DEF     1\n",
      "8     Brayden Hughes      DEF     87  DEF     1\n",
      "9     Brayden Hughes      DEF     87  DEF     1\n",
      "7     Zachary Nelson      FWD     86  FWD     1\n",
      "10    Zachary Nelson      FWD     86  FWD     1\n",
      "19    Brayden Hughes      DEF     87  DEF     2\n",
      "20    Brayden Hughes      DEF     87  DEF     2\n",
      "18      Dominic Bell      MID     86  MID     2\n",
      "17      Chase Murphy      FWD     86  FWD     2\n",
      "16    Brayden Hughes      DEF     87  DEF     2\n",
      "15    Zachary Nelson      FWD     86  FWD     2\n",
      "14      Dominic Bell      MID     86  MID     2\n",
      "27      Dominic Bell      MID     86  MID     3\n",
      "25    Zachary Nelson      FWD     86  FWD     3\n",
      "24      Logan Brooks      DEF     86  DEF     3\n",
      "26  Gavin Richardson      MID     87  MID     3\n",
      "22    Zachary Nelson      FWD     86  FWD     3\n",
      "21  Gavin Richardson      MID     87  MID     3\n",
      "23    Brayden Hughes      DEF     87  DEF     3\n",
      "33      Logan Brooks      DEF     86  DEF     4\n",
      "28      Logan Brooks      DEF     86  DEF     4\n",
      "29      Dominic Bell      MID     86  MID     4\n",
      "30      Logan Brooks      DEF     86  DEF     4\n",
      "31    Brayden Hughes      DEF     87  DEF     4\n",
      "32       Owen Parker      DEF     88  DEF     4\n",
      "34      Chase Murphy      FWD     86  FWD     4\n"
     ]
    }
   ],
   "source": [
    "import random\n",
    "import numpy as np\n",
    "import pandas as pd\n",
    "\n",
    "# Constants\n",
    "TEAM_COUNT = 5\n",
    "TEAM_STRUCTURE = {\n",
    "    'GK': 1,\n",
    "    'DEF': 2,\n",
    "    'MID': 2,\n",
    "    'FWD': 2\n",
    "}\n",
    "POPULATION_SIZE = 100\n",
    "GENERATIONS = 300\n",
    "MUTATION_RATE = 0.1\n",
    "TOURNAMENT_SIZE = 5\n",
    "\n",
    "# Utility: Generate initial population\n",
    "def generate_initial_population(position_groups):\n",
    "    population = []\n",
    "    for _ in range(POPULATION_SIZE):\n",
    "        players = []\n",
    "        for pos, required_per_team in TEAM_STRUCTURE.items():\n",
    "            total_needed = required_per_team * TEAM_COUNT\n",
    "            selected = random.sample(position_groups[pos], total_needed)\n",
    "            players.extend([[p[0], p[1], p[2], p[1]] for p in selected]) # Just to be sure position is there\n",
    "\n",
    "        random.shuffle(players)\n",
    "        df = pd.DataFrame(players, columns=['Player', 'Position', 'Skill', 'Pos'])\n",
    "        df['Team'] = np.repeat(range(TEAM_COUNT), sum(TEAM_STRUCTURE.values()))\n",
    "        population.append(df)\n",
    "    return population\n",
    "\n",
    "# Fitness = standard deviation of average skill per team\n",
    "def evaluate_fitness(individual):\n",
    "    team_avgs = individual.groupby('Team')['Skill'].mean()\n",
    "    return np.std(team_avgs)\n",
    "\n",
    "# Tournament selection\n",
    "def tournament_selection(population):\n",
    "    selected = random.sample(population, TOURNAMENT_SIZE)\n",
    "    return min(selected, key=evaluate_fitness)\n",
    "\n",
    "# Crossover: single-point\n",
    "def crossover(parent1, parent2):\n",
    "    split = random.randint(1, len(parent1) - 2)\n",
    "    child = pd.concat([parent1.iloc[:split], parent2.iloc[split:]]).copy()\n",
    "    child = child.sample(frac=1).reset_index(drop=True)\n",
    "    child['Team'] = np.repeat(range(TEAM_COUNT), sum(TEAM_STRUCTURE.values()))\n",
    "    return child\n",
    "\n",
    "# Mutation: swap same-position players\n",
    "def mutate(individual):\n",
    "    if random.random() < MUTATION_RATE:\n",
    "        idx1, idx2 = random.sample(range(len(individual)), 2)\n",
    "        if individual.loc[idx1, 'Position'] == individual.loc[idx2, 'Position']:\n",
    "            individual.loc[idx1, 'Team'], individual.loc[idx2, 'Team'] = (\n",
    "                individual.loc[idx2, 'Team'],\n",
    "                individual.loc[idx1, 'Team']\n",
    "            )\n",
    "    return individual\n",
    "\n",
    "# Main GA function\n",
    "def genetic_algorithm(position_groups):\n",
    "    population = generate_initial_population(position_groups)\n",
    "    best_fitness = float('inf')\n",
    "    best_solution = None\n",
    "\n",
    "    for generation in range(GENERATIONS):\n",
    "        new_population = []\n",
    "        for _ in range(POPULATION_SIZE):\n",
    "            parent1 = tournament_selection(population)\n",
    "            parent2 = tournament_selection(population)\n",
    "            child = crossover(parent1, parent2)\n",
    "            child = mutate(child)\n",
    "            new_population.append(child)\n",
    "\n",
    "        population = new_population\n",
    "        best_candidate = min(population, key=evaluate_fitness)\n",
    "        fitness = evaluate_fitness(best_candidate)\n",
    "        if fitness < best_fitness:\n",
    "            best_fitness = fitness\n",
    "            best_solution = best_candidate\n",
    "\n",
    "        if generation % 20 == 0:\n",
    "            print(f\"Generation {generation}: std = {fitness:.4f}\")\n",
    "\n",
    "    return best_solution\n",
    "\n",
    "# Run GA\n",
    "best_teams = genetic_algorithm(position_groups)\n",
    "print(best_teams.sort_values(by='Team'))\n"
   ]
  }
 ],
 "metadata": {
  "kernelspec": {
   "display_name": "DM2425",
   "language": "python",
   "name": "python3"
  },
  "language_info": {
   "codemirror_mode": {
    "name": "ipython",
    "version": 3
   },
   "file_extension": ".py",
   "mimetype": "text/x-python",
   "name": "python",
   "nbconvert_exporter": "python",
   "pygments_lexer": "ipython3",
   "version": "3.12.7"
  }
 },
 "nbformat": 4,
 "nbformat_minor": 2
}
