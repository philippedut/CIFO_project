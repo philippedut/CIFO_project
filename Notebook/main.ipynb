{
 "cells": [
  {
   "cell_type": "markdown",
   "metadata": {},
   "source": [
    "# **Fantasy Sports League Optimization**\n",
    "\n",
    "## **Project Description**\n",
    "This project focuses on optimizing team assignments in a fantasy sports league while ensuring a balanced distribution of talent and adherence to salary constraints. Given a dataset of players with attributes such as skill rating, cost, and position, we aim to assign them to five teams while following strict constraints and achieving a balanced league.\n",
    "\n",
    "## **Constraints**\n",
    "- Each team must consist of:\n",
    "  - 1 Goalkeeper (GK)  \n",
    "  - 2 Defenders (DEF)  \n",
    "  - 2 Midfielders (MID)  \n",
    "  - 2 Forwards (FWD)  \n",
    "- Each player is assigned to exactly one team.  \n",
    "- No team may exceed a total budget of **750 million €**.  \n",
    "- The standard deviation of the average skill rating of all teams should be minimized to ensure fairness.  \n",
    "\n",
    "## **Objective**\n",
    "To generate a valid league configuration that follows all constraints and ensures that teams have a similar overall skill level, measured by the standard deviation of their average skill ratings.\n",
    "\n",
    "## **Group Members**\n",
    "\n",
    "### **Group X**\n",
    "\n",
    "| Name                  | Student Number  |\n",
    "|-----------------------|----------------|\n",
    "| Philippe Dutranoit   | 20240518        |\n",
    "| Name 2               | Student Number 2 |\n",
    "| Name 3               | Student Number 3 |\n",
    "| Name 4               | Student Number 4 |"
   ]
  },
  {
   "cell_type": "markdown",
   "metadata": {},
   "source": [
    "# Imports "
   ]
  },
  {
   "cell_type": "code",
   "execution_count": null,
   "metadata": {},
   "outputs": [],
   "source": [
    "import os\n",
    "import pandas as pd\n",
    "import numpy as np\n",
    "import matplotlib.pyplot as plt\n",
    "import seaborn as sns"
   ]
  },
  {
   "cell_type": "code",
   "execution_count": null,
   "metadata": {},
   "outputs": [],
   "source": [
    "df = pd.read_csv('../Data/players(in).csv.csv')"
   ]
  }
 ],
 "metadata": {
  "language_info": {
   "name": "python"
  }
 },
 "nbformat": 4,
 "nbformat_minor": 2
}
