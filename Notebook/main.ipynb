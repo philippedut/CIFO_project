{
 "cells": [
  {
   "cell_type": "markdown",
   "metadata": {},
   "source": [
    "# **Fantasy Sports League Optimization**\n",
    "\n",
    "## **Project Description**\n",
    "This project focuses on optimizing team assignments in a fantasy sports league while ensuring a balanced distribution of talent and adherence to salary constraints. Given a dataset of players with attributes such as skill rating, cost, and position, we aim to assign them to five teams while following strict constraints and achieving a balanced league.\n",
    "\n",
    "## **Constraints**\n",
    "- Each team must consist of:\n",
    "  - 1 Goalkeeper (GK)  \n",
    "  - 2 Defenders (DEF)  \n",
    "  - 2 Midfielders (MID)  \n",
    "  - 2 Forwards (FWD)  \n",
    "- Each player is assigned to exactly one team.  \n",
    "- No team may exceed a total budget of **750 million €**.  \n",
    "- The standard deviation of the average skill rating of all teams should be minimized to ensure fairness.  \n",
    "\n",
    "## **Objective**\n",
    "To generate a valid league configuration that follows all constraints and ensures that teams have a similar overall skill level, measured by the standard deviation of their average skill ratings.\n",
    "\n",
    "## **Group Members**\n",
    "\n",
    "### **Group X**\n",
    "\n",
    "| Name                  | Student Number  |\n",
    "|-----------------------|----------------|\n",
    "| Philippe Dutranoit   | 20240518        |\n",
    "| Name 2               | Student Number 2 |\n",
    "| Name 3               | Student Number 3 |\n",
    "| Name 4               | Student Number 4 |"
   ]
  },
  {
   "cell_type": "markdown",
   "metadata": {},
   "source": [
    "# Imports "
   ]
  },
  {
   "cell_type": "code",
   "execution_count": 1,
   "metadata": {},
   "outputs": [],
   "source": [
    "import os\n",
    "import pandas as pd\n",
    "import numpy as np\n",
    "import matplotlib.pyplot as plt\n",
    "import seaborn as sns"
   ]
  },
  {
   "cell_type": "code",
   "execution_count": 7,
   "metadata": {},
   "outputs": [],
   "source": [
    "df = pd.read_csv('../Data/players(in).csv')"
   ]
  },
  {
   "cell_type": "code",
   "execution_count": null,
   "metadata": {},
   "outputs": [
    {
     "data": {
      "text/html": [
       "<div>\n",
       "<style scoped>\n",
       "    .dataframe tbody tr th:only-of-type {\n",
       "        vertical-align: middle;\n",
       "    }\n",
       "\n",
       "    .dataframe tbody tr th {\n",
       "        vertical-align: top;\n",
       "    }\n",
       "\n",
       "    .dataframe thead th {\n",
       "        text-align: right;\n",
       "    }\n",
       "</style>\n",
       "<table border=\"1\" class=\"dataframe\">\n",
       "  <thead>\n",
       "    <tr style=\"text-align: right;\">\n",
       "      <th></th>\n",
       "      <th>Name</th>\n",
       "      <th>Position</th>\n",
       "      <th>Skill</th>\n",
       "      <th>Salary (€M)</th>\n",
       "    </tr>\n",
       "  </thead>\n",
       "  <tbody>\n",
       "    <tr>\n",
       "      <th>0</th>\n",
       "      <td>Alex Carter</td>\n",
       "      <td>GK</td>\n",
       "      <td>85</td>\n",
       "      <td>90</td>\n",
       "    </tr>\n",
       "    <tr>\n",
       "      <th>1</th>\n",
       "      <td>Jordan Smith</td>\n",
       "      <td>GK</td>\n",
       "      <td>88</td>\n",
       "      <td>100</td>\n",
       "    </tr>\n",
       "    <tr>\n",
       "      <th>2</th>\n",
       "      <td>Ryan Mitchell</td>\n",
       "      <td>GK</td>\n",
       "      <td>83</td>\n",
       "      <td>85</td>\n",
       "    </tr>\n",
       "    <tr>\n",
       "      <th>3</th>\n",
       "      <td>Chris Thompson</td>\n",
       "      <td>GK</td>\n",
       "      <td>80</td>\n",
       "      <td>80</td>\n",
       "    </tr>\n",
       "    <tr>\n",
       "      <th>4</th>\n",
       "      <td>Blake Henderson</td>\n",
       "      <td>GK</td>\n",
       "      <td>87</td>\n",
       "      <td>95</td>\n",
       "    </tr>\n",
       "  </tbody>\n",
       "</table>\n",
       "</div>"
      ],
      "text/plain": [
       "              Name Position  Skill  Salary (€M)\n",
       "0      Alex Carter       GK     85           90\n",
       "1     Jordan Smith       GK     88          100\n",
       "2    Ryan Mitchell       GK     83           85\n",
       "3   Chris Thompson       GK     80           80\n",
       "4  Blake Henderson       GK     87           95"
      ]
     },
     "execution_count": 8,
     "metadata": {},
     "output_type": "execute_result"
    }
   ],
   "source": [
    "df.drop(columns=['Unnamed: 0'], inplace=True) # drop a column that as no information \n",
    "df.hea\n"
   ]
  },
  {
   "cell_type": "markdown",
   "metadata": {},
   "source": [
    "# Defining The constraints"
   ]
  },
  {
   "cell_type": "code",
   "execution_count": 12,
   "metadata": {},
   "outputs": [],
   "source": [
    "position = {\"GK\": 1, \"DEF\": 2, \"MID\": 2, \"FWD\": 2}\n",
    "budget = 750 \n",
    "total_players = 5 # as 35 rows devided by seven position = 5 teams\n",
    "team_size = sum(position.values())"
   ]
  },
  {
   "cell_type": "code",
   "execution_count": null,
   "metadata": {},
   "outputs": [
    {
     "data": {
      "text/plain": [
       "{'GK': [['Alex Carter', 'GK', 85, 90],\n",
       "  ['Jordan Smith', 'GK', 88, 100],\n",
       "  ['Ryan Mitchell', 'GK', 83, 85],\n",
       "  ['Chris Thompson', 'GK', 80, 80],\n",
       "  ['Blake Henderson', 'GK', 87, 95]],\n",
       " 'DEF': [['Daniel Foster', 'DEF', 90, 110],\n",
       "  ['Lucas Bennett', 'DEF', 85, 90],\n",
       "  ['Owen Parker', 'DEF', 88, 100],\n",
       "  ['Ethan Howard', 'DEF', 80, 70],\n",
       "  ['Mason Reed', 'DEF', 82, 75],\n",
       "  ['Logan Brooks', 'DEF', 86, 95],\n",
       "  ['Caleb Fisher', 'DEF', 84, 85],\n",
       "  ['Maxwell Flores', 'DEF', 81, 72],\n",
       "  ['Jaxon Griffin', 'DEF', 79, 65],\n",
       "  ['Brayden Hughes', 'DEF', 87, 100]],\n",
       " 'MID': [['Nathan Wright', 'MID', 92, 120],\n",
       "  ['Connor Hayes', 'MID', 89, 105],\n",
       "  ['Dylan Morgan', 'MID', 91, 115],\n",
       "  ['Hunter Cooper', 'MID', 83, 85],\n",
       "  ['Austin Torres', 'MID', 82, 80],\n",
       "  ['Gavin Richardson', 'MID', 87, 95],\n",
       "  ['Spencer Ward', 'MID', 84, 85],\n",
       "  ['Bentley Rivera', 'MID', 88, 100],\n",
       "  ['Dominic Bell', 'MID', 86, 95],\n",
       "  ['Ashton Phillips', 'MID', 90, 110]],\n",
       " 'FWD': [['Sebastian Perry', 'FWD', 95, 150],\n",
       "  ['Xavier Bryant', 'FWD', 90, 120],\n",
       "  ['Elijah Sanders', 'FWD', 93, 140],\n",
       "  ['Adrian Collins', 'FWD', 85, 90],\n",
       "  ['Tyler Jenkins', 'FWD', 80, 70],\n",
       "  ['Chase Murphy', 'FWD', 86, 95],\n",
       "  ['Landon Powell', 'FWD', 89, 110],\n",
       "  ['Julian Scott', 'FWD', 92, 130],\n",
       "  ['Colton Gray', 'FWD', 91, 125],\n",
       "  ['Zachary Nelson', 'FWD', 86, 92]]}"
      ]
     },
     "execution_count": 14,
     "metadata": {},
     "output_type": "execute_result"
    }
   ],
   "source": [
    "# create a dictionary to group players by position\n",
    "position_groups = {pos: df[df[\"Position\"] == pos].values.tolist() for pos in position}\n",
    "\n",
    "position_groups"
   ]
  }
 ],
 "metadata": {
  "kernelspec": {
   "display_name": "DM2425",
   "language": "python",
   "name": "python3"
  },
  "language_info": {
   "codemirror_mode": {
    "name": "ipython",
    "version": 3
   },
   "file_extension": ".py",
   "mimetype": "text/x-python",
   "name": "python",
   "nbconvert_exporter": "python",
   "pygments_lexer": "ipython3",
   "version": "3.12.7"
  }
 },
 "nbformat": 4,
 "nbformat_minor": 2
}
