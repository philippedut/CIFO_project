{
 "cells": [
  {
   "cell_type": "markdown",
   "metadata": {},
   "source": [
    "# **Fantasy Sports League Optimization**\n",
    "\n",
    "## **Project Description**\n",
    "This project focuses on optimizing team assignments in a fantasy sports league while ensuring a balanced distribution of talent and adherence to salary constraints. Given a dataset of players with attributes such as skill rating, cost, and position, we aim to assign them to five teams while following strict constraints and achieving a balanced league.\n",
    "\n",
    "## **Constraints**\n",
    "- Each team must consist of:\n",
    "  - 1 Goalkeeper (GK)  \n",
    "  - 2 Defenders (DEF)  \n",
    "  - 2 Midfielders (MID)  \n",
    "  - 2 Forwards (FWD)  \n",
    "- Each player is assigned to exactly one team.  \n",
    "- No team may exceed a total budget of **750 million €**.  \n",
    "- The standard deviation of the average skill rating of all teams should be minimized to ensure fairness.  \n",
    "\n",
    "## **Objective**\n",
    "To generate a valid league configuration that follows all constraints and ensures that teams have a similar overall skill level, measured by the standard deviation of their average skill ratings.\n",
    "\n",
    "## **Group Members**\n",
    "\n",
    "### **Group X**\n",
    "\n",
    "| Name                  | Student Number  |\n",
    "|-----------------------|----------------|\n",
    "| Philippe Dutranoit   | 20240518        |\n",
    "| Josua Wehr        | 202040501 |\n",
    "| Benedikt Ruggaber | 202040500 |\n",
    "| Daan Van Holten  | 20240681 |"
   ]
  },
  {
   "cell_type": "markdown",
   "metadata": {},
   "source": [
    "# Imports "
   ]
  },
  {
   "cell_type": "code",
   "execution_count": 1,
   "metadata": {},
   "outputs": [],
   "source": [
    "#!pip install seaborn"
   ]
  },
  {
   "cell_type": "code",
   "execution_count": 2,
   "metadata": {},
   "outputs": [],
   "source": [
    "import os\n",
    "import pandas as pd\n",
    "import numpy as np\n",
    "import matplotlib.pyplot as plt\n",
    "import seaborn as sns\n",
    "import random"
   ]
  },
  {
   "cell_type": "code",
   "execution_count": 3,
   "metadata": {},
   "outputs": [],
   "source": [
    "# import all custom classes\n",
    "from CrossoverMethods import CrossoverMethods\n",
    "from League import League\n",
    "from GeneticAlgorithm import GeneticAlgorithm\n",
    "from MutationMethods import MutationMethods\n",
    "from Player import Player\n",
    "from SelectionMethods import SelectionMethods\n",
    "from SolutionAnalyzer import SolutionAnalyzer\n",
    "from Team import Team"
   ]
  },
  {
   "cell_type": "code",
   "execution_count": 4,
   "metadata": {},
   "outputs": [],
   "source": [
    "df = pd.read_csv('../Data/players(in).csv')"
   ]
  },
  {
   "cell_type": "code",
   "execution_count": 5,
   "metadata": {},
   "outputs": [
    {
     "data": {
      "text/html": [
       "<div>\n",
       "<style scoped>\n",
       "    .dataframe tbody tr th:only-of-type {\n",
       "        vertical-align: middle;\n",
       "    }\n",
       "\n",
       "    .dataframe tbody tr th {\n",
       "        vertical-align: top;\n",
       "    }\n",
       "\n",
       "    .dataframe thead th {\n",
       "        text-align: right;\n",
       "    }\n",
       "</style>\n",
       "<table border=\"1\" class=\"dataframe\">\n",
       "  <thead>\n",
       "    <tr style=\"text-align: right;\">\n",
       "      <th></th>\n",
       "      <th>Name</th>\n",
       "      <th>Position</th>\n",
       "      <th>Skill</th>\n",
       "      <th>Salary (€M)</th>\n",
       "    </tr>\n",
       "  </thead>\n",
       "  <tbody>\n",
       "    <tr>\n",
       "      <th>0</th>\n",
       "      <td>Alex Carter</td>\n",
       "      <td>GK</td>\n",
       "      <td>85</td>\n",
       "      <td>90</td>\n",
       "    </tr>\n",
       "    <tr>\n",
       "      <th>1</th>\n",
       "      <td>Jordan Smith</td>\n",
       "      <td>GK</td>\n",
       "      <td>88</td>\n",
       "      <td>100</td>\n",
       "    </tr>\n",
       "    <tr>\n",
       "      <th>2</th>\n",
       "      <td>Ryan Mitchell</td>\n",
       "      <td>GK</td>\n",
       "      <td>83</td>\n",
       "      <td>85</td>\n",
       "    </tr>\n",
       "    <tr>\n",
       "      <th>3</th>\n",
       "      <td>Chris Thompson</td>\n",
       "      <td>GK</td>\n",
       "      <td>80</td>\n",
       "      <td>80</td>\n",
       "    </tr>\n",
       "    <tr>\n",
       "      <th>4</th>\n",
       "      <td>Blake Henderson</td>\n",
       "      <td>GK</td>\n",
       "      <td>87</td>\n",
       "      <td>95</td>\n",
       "    </tr>\n",
       "  </tbody>\n",
       "</table>\n",
       "</div>"
      ],
      "text/plain": [
       "              Name Position  Skill  Salary (€M)\n",
       "0      Alex Carter       GK     85           90\n",
       "1     Jordan Smith       GK     88          100\n",
       "2    Ryan Mitchell       GK     83           85\n",
       "3   Chris Thompson       GK     80           80\n",
       "4  Blake Henderson       GK     87           95"
      ]
     },
     "execution_count": 5,
     "metadata": {},
     "output_type": "execute_result"
    }
   ],
   "source": [
    "df.drop(columns=['Unnamed: 0'], inplace=True) # drop a column that as no information \n",
    "df.head()\n"
   ]
  },
  {
   "cell_type": "markdown",
   "metadata": {},
   "source": [
    "# Defining The constraints"
   ]
  },
  {
   "cell_type": "code",
   "execution_count": 6,
   "metadata": {},
   "outputs": [],
   "source": [
    "position = {\"GK\": 1, \"DEF\": 2, \"MID\": 2, \"FWD\": 2}\n",
    "budget = 750 \n",
    "total_players = 5 # as 35 rows devided by seven position = 5 teams\n",
    "team_size = sum(position.values())"
   ]
  },
  {
   "cell_type": "markdown",
   "metadata": {},
   "source": [
    "we assign each player to the right position <br>\n",
    " &rarr; the dictionary contains for each position a list of the player in can be assigned"
   ]
  },
  {
   "cell_type": "code",
   "execution_count": 7,
   "metadata": {},
   "outputs": [
    {
     "data": {
      "text/plain": [
       "{'GK': [['Alex Carter', 'GK', 85, 90],\n",
       "  ['Jordan Smith', 'GK', 88, 100],\n",
       "  ['Ryan Mitchell', 'GK', 83, 85],\n",
       "  ['Chris Thompson', 'GK', 80, 80],\n",
       "  ['Blake Henderson', 'GK', 87, 95]],\n",
       " 'DEF': [['Daniel Foster', 'DEF', 90, 110],\n",
       "  ['Lucas Bennett', 'DEF', 85, 90],\n",
       "  ['Owen Parker', 'DEF', 88, 100],\n",
       "  ['Ethan Howard', 'DEF', 80, 70],\n",
       "  ['Mason Reed', 'DEF', 82, 75],\n",
       "  ['Logan Brooks', 'DEF', 86, 95],\n",
       "  ['Caleb Fisher', 'DEF', 84, 85],\n",
       "  ['Maxwell Flores', 'DEF', 81, 72],\n",
       "  ['Jaxon Griffin', 'DEF', 79, 65],\n",
       "  ['Brayden Hughes', 'DEF', 87, 100]],\n",
       " 'MID': [['Nathan Wright', 'MID', 92, 120],\n",
       "  ['Connor Hayes', 'MID', 89, 105],\n",
       "  ['Dylan Morgan', 'MID', 91, 115],\n",
       "  ['Hunter Cooper', 'MID', 83, 85],\n",
       "  ['Austin Torres', 'MID', 82, 80],\n",
       "  ['Gavin Richardson', 'MID', 87, 95],\n",
       "  ['Spencer Ward', 'MID', 84, 85],\n",
       "  ['Bentley Rivera', 'MID', 88, 100],\n",
       "  ['Dominic Bell', 'MID', 86, 95],\n",
       "  ['Ashton Phillips', 'MID', 90, 110]],\n",
       " 'FWD': [['Sebastian Perry', 'FWD', 95, 150],\n",
       "  ['Xavier Bryant', 'FWD', 90, 120],\n",
       "  ['Elijah Sanders', 'FWD', 93, 140],\n",
       "  ['Adrian Collins', 'FWD', 85, 90],\n",
       "  ['Tyler Jenkins', 'FWD', 80, 70],\n",
       "  ['Chase Murphy', 'FWD', 86, 95],\n",
       "  ['Landon Powell', 'FWD', 89, 110],\n",
       "  ['Julian Scott', 'FWD', 92, 130],\n",
       "  ['Colton Gray', 'FWD', 91, 125],\n",
       "  ['Zachary Nelson', 'FWD', 86, 92]]}"
      ]
     },
     "execution_count": 7,
     "metadata": {},
     "output_type": "execute_result"
    }
   ],
   "source": [
    "position_groups = {pos: df[df[\"Position\"] == pos].values.tolist() for pos in position}\n",
    "\n",
    "position_groups"
   ]
  },
  {
   "cell_type": "markdown",
   "metadata": {},
   "source": [
    "# Genetic algorytm with one constrain"
   ]
  },
  {
   "cell_type": "markdown",
   "metadata": {},
   "source": [
    "to first build the algorythm we decided to make it work only with the constrain of **balance team**<br>\n",
    " &rarr; in that sence the fitness should look as shown below"
   ]
  },
  {
   "cell_type": "code",
   "execution_count": 8,
   "metadata": {},
   "outputs": [],
   "source": [
    "def fitness(individual):\n",
    "    team_avgs = individual.groupby('Team')['Skill'].mean()\n",
    "    return np.std(team_avgs)"
   ]
  },
  {
   "cell_type": "code",
   "execution_count": 9,
   "metadata": {},
   "outputs": [
    {
     "name": "stdout",
     "output_type": "stream",
     "text": [
      "Generation 0: std = 0.3051\n",
      "Generation 20: std = 0.1457\n",
      "Generation 40: std = 0.0700\n",
      "Generation 60: std = 0.0000\n",
      "Generation 80: std = 0.0000\n",
      "Generation 100: std = 0.0000\n",
      "Generation 120: std = 0.0000\n",
      "Generation 140: std = 0.0000\n",
      "Generation 160: std = 0.0000\n",
      "Generation 180: std = 0.0000\n",
      "Generation 200: std = 0.0000\n",
      "Generation 220: std = 0.0000\n",
      "Generation 240: std = 0.0000\n",
      "Generation 260: std = 0.0000\n",
      "Generation 280: std = 0.0000\n",
      "              Player Position  Skill  Pos  Team\n",
      "0       Logan Brooks      DEF     86  DEF     0\n",
      "1     Zachary Nelson      FWD     86  FWD     0\n",
      "2       Chase Murphy      FWD     86  FWD     0\n",
      "3     Zachary Nelson      FWD     86  FWD     0\n",
      "4     Zachary Nelson      FWD     86  FWD     0\n",
      "5       Logan Brooks      DEF     86  DEF     0\n",
      "6        Alex Carter       GK     85   GK     0\n",
      "13      Jordan Smith       GK     88   GK     1\n",
      "12      Logan Brooks      DEF     86  DEF     1\n",
      "11      Chase Murphy      FWD     86  FWD     1\n",
      "8       Spencer Ward      MID     84  MID     1\n",
      "9        Alex Carter       GK     85   GK     1\n",
      "7       Dominic Bell      MID     86  MID     1\n",
      "10      Chase Murphy      FWD     86  FWD     1\n",
      "19    Adrian Collins      FWD     85  FWD     2\n",
      "20      Dominic Bell      MID     86  MID     2\n",
      "18    Zachary Nelson      FWD     86  FWD     2\n",
      "17      Logan Brooks      DEF     86  DEF     2\n",
      "16      Dominic Bell      MID     86  MID     2\n",
      "15      Logan Brooks      DEF     86  DEF     2\n",
      "14      Chase Murphy      FWD     86  FWD     2\n",
      "27    Adrian Collins      FWD     85  FWD     3\n",
      "25       Alex Carter       GK     85   GK     3\n",
      "24       Alex Carter       GK     85   GK     3\n",
      "26  Gavin Richardson      MID     87  MID     3\n",
      "22      Logan Brooks      DEF     86  DEF     3\n",
      "21       Alex Carter       GK     85   GK     3\n",
      "23       Owen Parker      DEF     88  DEF     3\n",
      "33      Jordan Smith       GK     88   GK     4\n",
      "28      Dominic Bell      MID     86  MID     4\n",
      "29       Alex Carter       GK     85   GK     4\n",
      "30    Adrian Collins      FWD     85  FWD     4\n",
      "31  Gavin Richardson      MID     87  MID     4\n",
      "32      Spencer Ward      MID     84  MID     4\n",
      "34      Logan Brooks      DEF     86  DEF     4\n"
     ]
    }
   ],
   "source": [
    "# Constants\n",
    "TEAM_COUNT = 5\n",
    "TEAM_STRUCTURE = {\n",
    "    'GK': 1,\n",
    "    'DEF': 2,\n",
    "    'MID': 2,\n",
    "    'FWD': 2\n",
    "}\n",
    "POPULATION_SIZE = 100\n",
    "GENERATIONS = 300\n",
    "MUTATION_RATE = 0.1\n",
    "TOURNAMENT_SIZE = 5\n",
    "\n",
    "# Utility: Generate initial population\n",
    "def generate_initial_population(position_groups):\n",
    "    population = []\n",
    "    for _ in range(POPULATION_SIZE):\n",
    "        players = []\n",
    "        for pos, required_per_team in TEAM_STRUCTURE.items():\n",
    "            total_needed = required_per_team * TEAM_COUNT\n",
    "            selected = random.sample(position_groups[pos], total_needed)\n",
    "            players.extend([[p[0], p[1], p[2], p[1]] for p in selected]) # Just to be sure position is there\n",
    "\n",
    "        random.shuffle(players)\n",
    "        df = pd.DataFrame(players, columns=['Player', 'Position', 'Skill', 'Pos'])\n",
    "        df['Team'] = np.repeat(range(TEAM_COUNT), sum(TEAM_STRUCTURE.values()))\n",
    "        population.append(df)\n",
    "    return population\n",
    "\n",
    "# Fitness = standard deviation of average skill per team\n",
    "def evaluate_fitness(individual):\n",
    "    team_avgs = individual.groupby('Team')['Skill'].mean()\n",
    "    return np.std(team_avgs)\n",
    "\n",
    "# Tournament selection\n",
    "def tournament_selection(population):\n",
    "    selected = random.sample(population, TOURNAMENT_SIZE)\n",
    "    return min(selected, key=evaluate_fitness)\n",
    "\n",
    "# Crossover: single-point\n",
    "def crossover(parent1, parent2):\n",
    "    split = random.randint(1, len(parent1) - 2)\n",
    "    child = pd.concat([parent1.iloc[:split], parent2.iloc[split:]]).copy()\n",
    "    child = child.sample(frac=1).reset_index(drop=True)\n",
    "    child['Team'] = np.repeat(range(TEAM_COUNT), sum(TEAM_STRUCTURE.values()))\n",
    "    return child\n",
    "\n",
    "# Mutation: swap same-position players\n",
    "def mutate(individual):\n",
    "    if random.random() < MUTATION_RATE:\n",
    "        idx1, idx2 = random.sample(range(len(individual)), 2)\n",
    "        if individual.loc[idx1, 'Position'] == individual.loc[idx2, 'Position']:\n",
    "            individual.loc[idx1, 'Team'], individual.loc[idx2, 'Team'] = (\n",
    "                individual.loc[idx2, 'Team'],\n",
    "                individual.loc[idx1, 'Team']\n",
    "            )\n",
    "    return individual\n",
    "\n",
    "# Main GA function\n",
    "def genetic_algorithm(position_groups):\n",
    "    population = generate_initial_population(position_groups)\n",
    "    best_fitness = float('inf')\n",
    "    best_solution = None\n",
    "\n",
    "    for generation in range(GENERATIONS):\n",
    "        new_population = []\n",
    "        for _ in range(POPULATION_SIZE):\n",
    "            parent1 = tournament_selection(population)\n",
    "            parent2 = tournament_selection(population)\n",
    "            child = crossover(parent1, parent2)\n",
    "            child = mutate(child)\n",
    "            new_population.append(child)\n",
    "\n",
    "        population = new_population\n",
    "        best_candidate = min(population, key=evaluate_fitness)\n",
    "        fitness = evaluate_fitness(best_candidate)\n",
    "        if fitness < best_fitness:\n",
    "            best_fitness = fitness\n",
    "            best_solution = best_candidate\n",
    "\n",
    "        if generation % 20 == 0:\n",
    "            print(f\"Generation {generation}: std = {fitness:.4f}\")\n",
    "\n",
    "    return best_solution\n",
    "\n",
    "# Run GA\n",
    "best_teams = genetic_algorithm(position_groups)\n",
    "print(best_teams.sort_values(by='Team'))\n"
   ]
  }
 ],
 "metadata": {
  "kernelspec": {
   "display_name": "Python 3",
   "language": "python",
   "name": "python3"
  },
  "language_info": {
   "codemirror_mode": {
    "name": "ipython",
    "version": 3
   },
   "file_extension": ".py",
   "mimetype": "text/x-python",
   "name": "python",
   "nbconvert_exporter": "python",
   "pygments_lexer": "ipython3",
   "version": "3.13.2"
  }
 },
 "nbformat": 4,
 "nbformat_minor": 2
}
